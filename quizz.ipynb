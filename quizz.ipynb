{
  "nbformat": 4,
  "nbformat_minor": 0,
  "metadata": {
    "colab": {
      "provenance": []
    },
    "kernelspec": {
      "name": "python3",
      "display_name": "Python 3"
    },
    "language_info": {
      "name": "python"
    }
  },
  "cells": [
    {
      "cell_type": "code",
      "execution_count": null,
      "metadata": {
        "colab": {
          "base_uri": "https://localhost:8080/"
        },
        "id": "qrDTjQI8dpTX",
        "outputId": "fe7188ff-7553-4991-e798-3428e0b5c3f5"
      },
      "outputs": [
        {
          "output_type": "stream",
          "name": "stdout",
          "text": [
            "Question 1: What is the capital of France?\n",
            "1. London\n",
            "2. Berlin\n",
            "3. Paris\n",
            "4. Madrid\n",
            "Your answer (enter the number): 1\n",
            "Wrong. The correct answer is 3: Paris\n",
            "\n",
            "Question 2: Who wrote 'Romeo and Juliet'?\n",
            "1. Charles Dickens\n",
            "2. Jane Austen\n",
            "3. William Shakespeare\n",
            "4. F. Scott Fitzgerald\n",
            "Your answer (enter the number): 4\n",
            "Wrong. The correct answer is 3: William Shakespeare\n",
            "\n",
            "Question 3: Which planet is known as the 'Red Planet'?\n",
            "1. Mars\n",
            "2. Venus\n",
            "3. Jupiter\n",
            "4. Earth\n",
            "Your answer (enter the number): 1\n",
            "Correct!\n",
            "\n",
            "Quiz completed! Your score is 1/3\n"
          ]
        }
      ],
      "source": [
        "import random\n",
        "\n",
        "# Define a list of questions with options and correct answers\n",
        "questions = [\n",
        "    {\n",
        "        \"question\": \"What is the capital of France?\",\n",
        "        \"options\": [\"London\", \"Berlin\", \"Paris\", \"Madrid\"],\n",
        "        \"correct_answer\": \"Paris\",\n",
        "    },\n",
        "    {\n",
        "        \"question\": \"Which planet is known as the 'Red Planet'?\",\n",
        "        \"options\": [\"Mars\", \"Venus\", \"Jupiter\", \"Earth\"],\n",
        "        \"correct_answer\": \"Mars\",\n",
        "    },\n",
        "    {\n",
        "        \"question\": \"Who wrote 'Romeo and Juliet'?\",\n",
        "        \"options\": [\"Charles Dickens\", \"Jane Austen\", \"William Shakespeare\", \"F. Scott Fitzgerald\"],\n",
        "        \"correct_answer\": \"William Shakespeare\",\n",
        "    },\n",
        "]\n",
        "\n",
        "# Shuffle the order of questions\n",
        "random.shuffle(questions)\n",
        "\n",
        "# Initialize a variable to keep track of the user's score\n",
        "score = 0\n",
        "\n",
        "# Quiz game loop\n",
        "for idx, question in enumerate(questions, start=1):\n",
        "    print(f\"Question {idx}: {question['question']}\")\n",
        "\n",
        "    # Display answer options\n",
        "    for i, option in enumerate(question[\"options\"], start=1):\n",
        "        print(f\"{i}. {option}\")\n",
        "\n",
        "    # Get the user's answer\n",
        "    user_answer = input(\"Your answer (enter the number): \")\n",
        "\n",
        "    # Check if the user's answer is correct\n",
        "    correct_answer = question[\"options\"].index(question[\"correct_answer\"]) + 1\n",
        "    if user_answer.isnumeric() and int(user_answer) == correct_answer:\n",
        "        print(\"Correct!\\n\")\n",
        "        score += 1\n",
        "    else:\n",
        "        print(f\"Wrong. The correct answer is {correct_answer}: {question['correct_answer']}\\n\")\n",
        "\n",
        "# Display the user's final score\n",
        "print(f\"Quiz completed! Your score is {score}/{len(questions)}\")\n"
      ]
    }
  ]
}