{
  "nbformat": 4,
  "nbformat_minor": 0,
  "metadata": {
    "colab": {
      "provenance": []
    },
    "kernelspec": {
      "name": "python3",
      "display_name": "Python 3"
    },
    "language_info": {
      "name": "python"
    }
  },
  "cells": [
    {
      "cell_type": "code",
      "execution_count": null,
      "metadata": {
        "colab": {
          "base_uri": "https://localhost:8080/"
        },
        "id": "lF84yl_MbEAn",
        "outputId": "9d292317-6f8d-4f92-ebbf-286b23264375"
      },
      "outputs": [
        {
          "name": "stdout",
          "output_type": "stream",
          "text": [
            "Options:\n",
            "Enter 'add' for addition\n",
            "Enter 'subtract' for subtraction\n",
            "Enter 'multiply' for multiplication\n",
            "Enter 'divide' for division\n",
            "Enter 'quit' to end the program\n",
            ": add\n",
            "Enter first number: 67\n",
            "Enter second number: 76\n",
            "Result:  143.0\n",
            "Options:\n",
            "Enter 'add' for addition\n",
            "Enter 'subtract' for subtraction\n",
            "Enter 'multiply' for multiplication\n",
            "Enter 'divide' for division\n",
            "Enter 'quit' to end the program\n",
            ": multiply\n",
            "Enter first number: 67\n",
            "Enter second number: 4\n",
            "Result:  268.0\n",
            "Options:\n",
            "Enter 'add' for addition\n",
            "Enter 'subtract' for subtraction\n",
            "Enter 'multiply' for multiplication\n",
            "Enter 'divide' for division\n",
            "Enter 'quit' to end the program\n",
            ": quit\n"
          ]
        }
      ],
      "source": [
        "# Function to add two numbers\n",
        "def add(x, y):\n",
        "    return x + y\n",
        "\n",
        "# Function to subtract two numbers\n",
        "def subtract(x, y):\n",
        "    return x - y\n",
        "\n",
        "# Function to multiply two numbers\n",
        "def multiply(x, y):\n",
        "    return x * y\n",
        "\n",
        "# Function to divide two numbers\n",
        "def divide(x, y):\n",
        "    if y == 0:\n",
        "        return \"Cannot divide by zero\"\n",
        "    return x / y\n",
        "\n",
        "while True:\n",
        "    # Display the menu\n",
        "    print(\"Options:\")\n",
        "    print(\"Enter 'add' for addition\")\n",
        "    print(\"Enter 'subtract' for subtraction\")\n",
        "    print(\"Enter 'multiply' for multiplication\")\n",
        "    print(\"Enter 'divide' for division\")\n",
        "    print(\"Enter 'quit' to end the program\")\n",
        "\n",
        "    user_choice = input(\": \")\n",
        "\n",
        "    if user_choice == \"quit\":\n",
        "        break\n",
        "    elif user_choice in (\"add\", \"subtract\", \"multiply\", \"divide\"):\n",
        "        num1 = float(input(\"Enter first number: \"))\n",
        "        num2 = float(input(\"Enter second number: \"))\n",
        "\n",
        "        if user_choice == \"add\":\n",
        "            print(\"Result: \", add(num1, num2))\n",
        "        elif user_choice == \"subtract\":\n",
        "            print(\"Result: \", subtract(num1, num2))\n",
        "        elif user_choice == \"multiply\":\n",
        "            print(\"Result: \", multiply(num1, num2))\n",
        "        elif user_choice == \"divide\":\n",
        "            print(\"Result: \", divide(num1, num2))\n",
        "    else:\n",
        "        print(\"Invalid input\")\n"
      ]
    }
  ]
}