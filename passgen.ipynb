{
  "nbformat": 4,
  "nbformat_minor": 0,
  "metadata": {
    "colab": {
      "provenance": []
    },
    "kernelspec": {
      "name": "python3",
      "display_name": "Python 3"
    },
    "language_info": {
      "name": "python"
    }
  },
  "cells": [
    {
      "cell_type": "code",
      "execution_count": null,
      "metadata": {
        "colab": {
          "base_uri": "https://localhost:8080/"
        },
        "id": "zgjH49TycIR7",
        "outputId": "b55c1123-720b-4bc3-912e-da78af1efef3"
      },
      "outputs": [
        {
          "output_type": "stream",
          "name": "stdout",
          "text": [
            "Enter the desired password length: 15\n",
            "Generated Password: `y@]7E$Ati@2L;w\n"
          ]
        }
      ],
      "source": [
        "import random\n",
        "import string\n",
        "\n",
        "def generate_password(length):\n",
        "    characters = string.ascii_letters + string.digits + string.punctuation\n",
        "    password = ''.join(random.choice(characters) for _ in range(length))\n",
        "    return password\n",
        "\n",
        "# Prompt the user for the desired password length\n",
        "try:\n",
        "    password_length = int(input(\"Enter the desired password length: \"))\n",
        "    if password_length <= 0:\n",
        "        print(\"Password length must be a positive integer.\")\n",
        "    else:\n",
        "        password = generate_password(password_length)\n",
        "        print(\"Generated Password:\", password)\n",
        "except ValueError:\n",
        "    print(\"Please enter a valid positive integer for the password length.\")\n"
      ]
    }
  ]
}